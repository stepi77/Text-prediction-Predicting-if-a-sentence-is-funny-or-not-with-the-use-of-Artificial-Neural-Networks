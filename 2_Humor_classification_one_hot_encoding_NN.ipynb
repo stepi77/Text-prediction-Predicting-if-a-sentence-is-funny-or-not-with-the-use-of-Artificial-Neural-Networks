{
  "nbformat": 4,
  "nbformat_minor": 0,
  "metadata": {
    "colab": {
      "name": "2 Humor classification one hot encoding NN",
      "provenance": [],
      "collapsed_sections": []
    },
    "kernelspec": {
      "display_name": "Python 3",
      "name": "python3"
    },
    "language_info": {
      "name": "python"
    },
    "accelerator": "GPU"
  },
  "cells": [
    {
      "cell_type": "code",
      "metadata": {
        "colab": {
          "resources": {
            "http://localhost:8080/nbextensions/google.colab/files.js": {
              "data": "Ly8gQ29weXJpZ2h0IDIwMTcgR29vZ2xlIExMQwovLwovLyBMaWNlbnNlZCB1bmRlciB0aGUgQXBhY2hlIExpY2Vuc2UsIFZlcnNpb24gMi4wICh0aGUgIkxpY2Vuc2UiKTsKLy8geW91IG1heSBub3QgdXNlIHRoaXMgZmlsZSBleGNlcHQgaW4gY29tcGxpYW5jZSB3aXRoIHRoZSBMaWNlbnNlLgovLyBZb3UgbWF5IG9idGFpbiBhIGNvcHkgb2YgdGhlIExpY2Vuc2UgYXQKLy8KLy8gICAgICBodHRwOi8vd3d3LmFwYWNoZS5vcmcvbGljZW5zZXMvTElDRU5TRS0yLjAKLy8KLy8gVW5sZXNzIHJlcXVpcmVkIGJ5IGFwcGxpY2FibGUgbGF3IG9yIGFncmVlZCB0byBpbiB3cml0aW5nLCBzb2Z0d2FyZQovLyBkaXN0cmlidXRlZCB1bmRlciB0aGUgTGljZW5zZSBpcyBkaXN0cmlidXRlZCBvbiBhbiAiQVMgSVMiIEJBU0lTLAovLyBXSVRIT1VUIFdBUlJBTlRJRVMgT1IgQ09ORElUSU9OUyBPRiBBTlkgS0lORCwgZWl0aGVyIGV4cHJlc3Mgb3IgaW1wbGllZC4KLy8gU2VlIHRoZSBMaWNlbnNlIGZvciB0aGUgc3BlY2lmaWMgbGFuZ3VhZ2UgZ292ZXJuaW5nIHBlcm1pc3Npb25zIGFuZAovLyBsaW1pdGF0aW9ucyB1bmRlciB0aGUgTGljZW5zZS4KCi8qKgogKiBAZmlsZW92ZXJ2aWV3IEhlbHBlcnMgZm9yIGdvb2dsZS5jb2xhYiBQeXRob24gbW9kdWxlLgogKi8KKGZ1bmN0aW9uKHNjb3BlKSB7CmZ1bmN0aW9uIHNwYW4odGV4dCwgc3R5bGVBdHRyaWJ1dGVzID0ge30pIHsKICBjb25zdCBlbGVtZW50ID0gZG9jdW1lbnQuY3JlYXRlRWxlbWVudCgnc3BhbicpOwogIGVsZW1lbnQudGV4dENvbnRlbnQgPSB0ZXh0OwogIGZvciAoY29uc3Qga2V5IG9mIE9iamVjdC5rZXlzKHN0eWxlQXR0cmlidXRlcykpIHsKICAgIGVsZW1lbnQuc3R5bGVba2V5XSA9IHN0eWxlQXR0cmlidXRlc1trZXldOwogIH0KICByZXR1cm4gZWxlbWVudDsKfQoKLy8gTWF4IG51bWJlciBvZiBieXRlcyB3aGljaCB3aWxsIGJlIHVwbG9hZGVkIGF0IGEgdGltZS4KY29uc3QgTUFYX1BBWUxPQURfU0laRSA9IDEwMCAqIDEwMjQ7CgpmdW5jdGlvbiBfdXBsb2FkRmlsZXMoaW5wdXRJZCwgb3V0cHV0SWQpIHsKICBjb25zdCBzdGVwcyA9IHVwbG9hZEZpbGVzU3RlcChpbnB1dElkLCBvdXRwdXRJZCk7CiAgY29uc3Qgb3V0cHV0RWxlbWVudCA9IGRvY3VtZW50LmdldEVsZW1lbnRCeUlkKG91dHB1dElkKTsKICAvLyBDYWNoZSBzdGVwcyBvbiB0aGUgb3V0cHV0RWxlbWVudCB0byBtYWtlIGl0IGF2YWlsYWJsZSBmb3IgdGhlIG5leHQgY2FsbAogIC8vIHRvIHVwbG9hZEZpbGVzQ29udGludWUgZnJvbSBQeXRob24uCiAgb3V0cHV0RWxlbWVudC5zdGVwcyA9IHN0ZXBzOwoKICByZXR1cm4gX3VwbG9hZEZpbGVzQ29udGludWUob3V0cHV0SWQpOwp9CgovLyBUaGlzIGlzIHJvdWdobHkgYW4gYXN5bmMgZ2VuZXJhdG9yIChub3Qgc3VwcG9ydGVkIGluIHRoZSBicm93c2VyIHlldCksCi8vIHdoZXJlIHRoZXJlIGFyZSBtdWx0aXBsZSBhc3luY2hyb25vdXMgc3RlcHMgYW5kIHRoZSBQeXRob24gc2lkZSBpcyBnb2luZwovLyB0byBwb2xsIGZvciBjb21wbGV0aW9uIG9mIGVhY2ggc3RlcC4KLy8gVGhpcyB1c2VzIGEgUHJvbWlzZSB0byBibG9jayB0aGUgcHl0aG9uIHNpZGUgb24gY29tcGxldGlvbiBvZiBlYWNoIHN0ZXAsCi8vIHRoZW4gcGFzc2VzIHRoZSByZXN1bHQgb2YgdGhlIHByZXZpb3VzIHN0ZXAgYXMgdGhlIGlucHV0IHRvIHRoZSBuZXh0IHN0ZXAuCmZ1bmN0aW9uIF91cGxvYWRGaWxlc0NvbnRpbnVlKG91dHB1dElkKSB7CiAgY29uc3Qgb3V0cHV0RWxlbWVudCA9IGRvY3VtZW50LmdldEVsZW1lbnRCeUlkKG91dHB1dElkKTsKICBjb25zdCBzdGVwcyA9IG91dHB1dEVsZW1lbnQuc3RlcHM7CgogIGNvbnN0IG5leHQgPSBzdGVwcy5uZXh0KG91dHB1dEVsZW1lbnQubGFzdFByb21pc2VWYWx1ZSk7CiAgcmV0dXJuIFByb21pc2UucmVzb2x2ZShuZXh0LnZhbHVlLnByb21pc2UpLnRoZW4oKHZhbHVlKSA9PiB7CiAgICAvLyBDYWNoZSB0aGUgbGFzdCBwcm9taXNlIHZhbHVlIHRvIG1ha2UgaXQgYXZhaWxhYmxlIHRvIHRoZSBuZXh0CiAgICAvLyBzdGVwIG9mIHRoZSBnZW5lcmF0b3IuCiAgICBvdXRwdXRFbGVtZW50Lmxhc3RQcm9taXNlVmFsdWUgPSB2YWx1ZTsKICAgIHJldHVybiBuZXh0LnZhbHVlLnJlc3BvbnNlOwogIH0pOwp9CgovKioKICogR2VuZXJhdG9yIGZ1bmN0aW9uIHdoaWNoIGlzIGNhbGxlZCBiZXR3ZWVuIGVhY2ggYXN5bmMgc3RlcCBvZiB0aGUgdXBsb2FkCiAqIHByb2Nlc3MuCiAqIEBwYXJhbSB7c3RyaW5nfSBpbnB1dElkIEVsZW1lbnQgSUQgb2YgdGhlIGlucHV0IGZpbGUgcGlja2VyIGVsZW1lbnQuCiAqIEBwYXJhbSB7c3RyaW5nfSBvdXRwdXRJZCBFbGVtZW50IElEIG9mIHRoZSBvdXRwdXQgZGlzcGxheS4KICogQHJldHVybiB7IUl0ZXJhYmxlPCFPYmplY3Q+fSBJdGVyYWJsZSBvZiBuZXh0IHN0ZXBzLgogKi8KZnVuY3Rpb24qIHVwbG9hZEZpbGVzU3RlcChpbnB1dElkLCBvdXRwdXRJZCkgewogIGNvbnN0IGlucHV0RWxlbWVudCA9IGRvY3VtZW50LmdldEVsZW1lbnRCeUlkKGlucHV0SWQpOwogIGlucHV0RWxlbWVudC5kaXNhYmxlZCA9IGZhbHNlOwoKICBjb25zdCBvdXRwdXRFbGVtZW50ID0gZG9jdW1lbnQuZ2V0RWxlbWVudEJ5SWQob3V0cHV0SWQpOwogIG91dHB1dEVsZW1lbnQuaW5uZXJIVE1MID0gJyc7CgogIGNvbnN0IHBpY2tlZFByb21pc2UgPSBuZXcgUHJvbWlzZSgocmVzb2x2ZSkgPT4gewogICAgaW5wdXRFbGVtZW50LmFkZEV2ZW50TGlzdGVuZXIoJ2NoYW5nZScsIChlKSA9PiB7CiAgICAgIHJlc29sdmUoZS50YXJnZXQuZmlsZXMpOwogICAgfSk7CiAgfSk7CgogIGNvbnN0IGNhbmNlbCA9IGRvY3VtZW50LmNyZWF0ZUVsZW1lbnQoJ2J1dHRvbicpOwogIGlucHV0RWxlbWVudC5wYXJlbnRFbGVtZW50LmFwcGVuZENoaWxkKGNhbmNlbCk7CiAgY2FuY2VsLnRleHRDb250ZW50ID0gJ0NhbmNlbCB1cGxvYWQnOwogIGNvbnN0IGNhbmNlbFByb21pc2UgPSBuZXcgUHJvbWlzZSgocmVzb2x2ZSkgPT4gewogICAgY2FuY2VsLm9uY2xpY2sgPSAoKSA9PiB7CiAgICAgIHJlc29sdmUobnVsbCk7CiAgICB9OwogIH0pOwoKICAvLyBXYWl0IGZvciB0aGUgdXNlciB0byBwaWNrIHRoZSBmaWxlcy4KICBjb25zdCBmaWxlcyA9IHlpZWxkIHsKICAgIHByb21pc2U6IFByb21pc2UucmFjZShbcGlja2VkUHJvbWlzZSwgY2FuY2VsUHJvbWlzZV0pLAogICAgcmVzcG9uc2U6IHsKICAgICAgYWN0aW9uOiAnc3RhcnRpbmcnLAogICAgfQogIH07CgogIGNhbmNlbC5yZW1vdmUoKTsKCiAgLy8gRGlzYWJsZSB0aGUgaW5wdXQgZWxlbWVudCBzaW5jZSBmdXJ0aGVyIHBpY2tzIGFyZSBub3QgYWxsb3dlZC4KICBpbnB1dEVsZW1lbnQuZGlzYWJsZWQgPSB0cnVlOwoKICBpZiAoIWZpbGVzKSB7CiAgICByZXR1cm4gewogICAgICByZXNwb25zZTogewogICAgICAgIGFjdGlvbjogJ2NvbXBsZXRlJywKICAgICAgfQogICAgfTsKICB9CgogIGZvciAoY29uc3QgZmlsZSBvZiBmaWxlcykgewogICAgY29uc3QgbGkgPSBkb2N1bWVudC5jcmVhdGVFbGVtZW50KCdsaScpOwogICAgbGkuYXBwZW5kKHNwYW4oZmlsZS5uYW1lLCB7Zm9udFdlaWdodDogJ2JvbGQnfSkpOwogICAgbGkuYXBwZW5kKHNwYW4oCiAgICAgICAgYCgke2ZpbGUudHlwZSB8fCAnbi9hJ30pIC0gJHtmaWxlLnNpemV9IGJ5dGVzLCBgICsKICAgICAgICBgbGFzdCBtb2RpZmllZDogJHsKICAgICAgICAgICAgZmlsZS5sYXN0TW9kaWZpZWREYXRlID8gZmlsZS5sYXN0TW9kaWZpZWREYXRlLnRvTG9jYWxlRGF0ZVN0cmluZygpIDoKICAgICAgICAgICAgICAgICAgICAgICAgICAgICAgICAgICAgJ24vYSd9IC0gYCkpOwogICAgY29uc3QgcGVyY2VudCA9IHNwYW4oJzAlIGRvbmUnKTsKICAgIGxpLmFwcGVuZENoaWxkKHBlcmNlbnQpOwoKICAgIG91dHB1dEVsZW1lbnQuYXBwZW5kQ2hpbGQobGkpOwoKICAgIGNvbnN0IGZpbGVEYXRhUHJvbWlzZSA9IG5ldyBQcm9taXNlKChyZXNvbHZlKSA9PiB7CiAgICAgIGNvbnN0IHJlYWRlciA9IG5ldyBGaWxlUmVhZGVyKCk7CiAgICAgIHJlYWRlci5vbmxvYWQgPSAoZSkgPT4gewogICAgICAgIHJlc29sdmUoZS50YXJnZXQucmVzdWx0KTsKICAgICAgfTsKICAgICAgcmVhZGVyLnJlYWRBc0FycmF5QnVmZmVyKGZpbGUpOwogICAgfSk7CiAgICAvLyBXYWl0IGZvciB0aGUgZGF0YSB0byBiZSByZWFkeS4KICAgIGxldCBmaWxlRGF0YSA9IHlpZWxkIHsKICAgICAgcHJvbWlzZTogZmlsZURhdGFQcm9taXNlLAogICAgICByZXNwb25zZTogewogICAgICAgIGFjdGlvbjogJ2NvbnRpbnVlJywKICAgICAgfQogICAgfTsKCiAgICAvLyBVc2UgYSBjaHVua2VkIHNlbmRpbmcgdG8gYXZvaWQgbWVzc2FnZSBzaXplIGxpbWl0cy4gU2VlIGIvNjIxMTU2NjAuCiAgICBsZXQgcG9zaXRpb24gPSAwOwogICAgZG8gewogICAgICBjb25zdCBsZW5ndGggPSBNYXRoLm1pbihmaWxlRGF0YS5ieXRlTGVuZ3RoIC0gcG9zaXRpb24sIE1BWF9QQVlMT0FEX1NJWkUpOwogICAgICBjb25zdCBjaHVuayA9IG5ldyBVaW50OEFycmF5KGZpbGVEYXRhLCBwb3NpdGlvbiwgbGVuZ3RoKTsKICAgICAgcG9zaXRpb24gKz0gbGVuZ3RoOwoKICAgICAgY29uc3QgYmFzZTY0ID0gYnRvYShTdHJpbmcuZnJvbUNoYXJDb2RlLmFwcGx5KG51bGwsIGNodW5rKSk7CiAgICAgIHlpZWxkIHsKICAgICAgICByZXNwb25zZTogewogICAgICAgICAgYWN0aW9uOiAnYXBwZW5kJywKICAgICAgICAgIGZpbGU6IGZpbGUubmFtZSwKICAgICAgICAgIGRhdGE6IGJhc2U2NCwKICAgICAgICB9LAogICAgICB9OwoKICAgICAgbGV0IHBlcmNlbnREb25lID0gZmlsZURhdGEuYnl0ZUxlbmd0aCA9PT0gMCA/CiAgICAgICAgICAxMDAgOgogICAgICAgICAgTWF0aC5yb3VuZCgocG9zaXRpb24gLyBmaWxlRGF0YS5ieXRlTGVuZ3RoKSAqIDEwMCk7CiAgICAgIHBlcmNlbnQudGV4dENvbnRlbnQgPSBgJHtwZXJjZW50RG9uZX0lIGRvbmVgOwoKICAgIH0gd2hpbGUgKHBvc2l0aW9uIDwgZmlsZURhdGEuYnl0ZUxlbmd0aCk7CiAgfQoKICAvLyBBbGwgZG9uZS4KICB5aWVsZCB7CiAgICByZXNwb25zZTogewogICAgICBhY3Rpb246ICdjb21wbGV0ZScsCiAgICB9CiAgfTsKfQoKc2NvcGUuZ29vZ2xlID0gc2NvcGUuZ29vZ2xlIHx8IHt9OwpzY29wZS5nb29nbGUuY29sYWIgPSBzY29wZS5nb29nbGUuY29sYWIgfHwge307CnNjb3BlLmdvb2dsZS5jb2xhYi5fZmlsZXMgPSB7CiAgX3VwbG9hZEZpbGVzLAogIF91cGxvYWRGaWxlc0NvbnRpbnVlLAp9Owp9KShzZWxmKTsK",
              "ok": true,
              "headers": [
                [
                  "content-type",
                  "application/javascript"
                ]
              ],
              "status": 200,
              "status_text": ""
            }
          },
          "base_uri": "https://localhost:8080/",
          "height": 73
        },
        "id": "TmONEFZJCi6q",
        "outputId": "1d784032-93ea-49db-c865-577a47d2a01a"
      },
      "source": [
        "from google.colab import files\n",
        "uploaded = files.upload()"
      ],
      "execution_count": null,
      "outputs": [
        {
          "output_type": "display_data",
          "data": {
            "text/html": [
              "\n",
              "     <input type=\"file\" id=\"files-c5b0c834-2b6e-42ad-b08b-0d6d08456b19\" name=\"files[]\" multiple disabled\n",
              "        style=\"border:none\" />\n",
              "     <output id=\"result-c5b0c834-2b6e-42ad-b08b-0d6d08456b19\">\n",
              "      Upload widget is only available when the cell has been executed in the\n",
              "      current browser session. Please rerun this cell to enable.\n",
              "      </output>\n",
              "      <script src=\"/nbextensions/google.colab/files.js\"></script> "
            ],
            "text/plain": [
              "<IPython.core.display.HTML object>"
            ]
          },
          "metadata": {}
        },
        {
          "output_type": "stream",
          "name": "stdout",
          "text": [
            "Saving train.txt to train.txt\n"
          ]
        }
      ]
    },
    {
      "cell_type": "markdown",
      "metadata": {
        "id": "EktnJY9YSgyx"
      },
      "source": [
        "# Data Cleaning"
      ]
    },
    {
      "cell_type": "code",
      "metadata": {
        "id": "8vSeqVMVClCc"
      },
      "source": [
        "import pandas as pd\n",
        "import numpy as np"
      ],
      "execution_count": null,
      "outputs": []
    },
    {
      "cell_type": "code",
      "metadata": {
        "id": "uEi4mYgKUAZW"
      },
      "source": [
        "file=pd.read_csv('train.txt', sep=\"\\t\") "
      ],
      "execution_count": null,
      "outputs": []
    },
    {
      "cell_type": "code",
      "metadata": {
        "colab": {
          "base_uri": "https://localhost:8080/",
          "height": 206
        },
        "id": "4mrtSS7NUCEk",
        "outputId": "cd31bd6d-3ebc-4d55-8a4b-aafb527bb634"
      },
      "source": [
        "file.head()"
      ],
      "execution_count": null,
      "outputs": [
        {
          "output_type": "execute_result",
          "data": {
            "text/html": [
              "\n",
              "  <div id=\"df-82008edc-a0f2-4ecd-87f8-648473d95144\">\n",
              "    <div class=\"colab-df-container\">\n",
              "      <div>\n",
              "<style scoped>\n",
              "    .dataframe tbody tr th:only-of-type {\n",
              "        vertical-align: middle;\n",
              "    }\n",
              "\n",
              "    .dataframe tbody tr th {\n",
              "        vertical-align: top;\n",
              "    }\n",
              "\n",
              "    .dataframe thead th {\n",
              "        text-align: right;\n",
              "    }\n",
              "</style>\n",
              "<table border=\"1\" class=\"dataframe\">\n",
              "  <thead>\n",
              "    <tr style=\"text-align: right;\">\n",
              "      <th></th>\n",
              "      <th>id</th>\n",
              "      <th>text</th>\n",
              "      <th>is_humor</th>\n",
              "      <th>humor_rating</th>\n",
              "      <th>humor_controversy</th>\n",
              "      <th>offense_rating</th>\n",
              "    </tr>\n",
              "  </thead>\n",
              "  <tbody>\n",
              "    <tr>\n",
              "      <th>0</th>\n",
              "      <td>1</td>\n",
              "      <td>TENNESSEE: We're the best state. Nobody even c...</td>\n",
              "      <td>1</td>\n",
              "      <td>2.42</td>\n",
              "      <td>1.0</td>\n",
              "      <td>0.2</td>\n",
              "    </tr>\n",
              "    <tr>\n",
              "      <th>1</th>\n",
              "      <td>2</td>\n",
              "      <td>A man inserted an advertisement in the classif...</td>\n",
              "      <td>1</td>\n",
              "      <td>2.50</td>\n",
              "      <td>1.0</td>\n",
              "      <td>1.1</td>\n",
              "    </tr>\n",
              "    <tr>\n",
              "      <th>2</th>\n",
              "      <td>3</td>\n",
              "      <td>How many men does it take to open a can of bee...</td>\n",
              "      <td>1</td>\n",
              "      <td>1.95</td>\n",
              "      <td>0.0</td>\n",
              "      <td>2.4</td>\n",
              "    </tr>\n",
              "    <tr>\n",
              "      <th>3</th>\n",
              "      <td>4</td>\n",
              "      <td>Told my mom I hit 1200 Twitter followers. She ...</td>\n",
              "      <td>1</td>\n",
              "      <td>2.11</td>\n",
              "      <td>1.0</td>\n",
              "      <td>0.0</td>\n",
              "    </tr>\n",
              "    <tr>\n",
              "      <th>4</th>\n",
              "      <td>5</td>\n",
              "      <td>Roses are dead. Love is fake. Weddings are bas...</td>\n",
              "      <td>1</td>\n",
              "      <td>2.78</td>\n",
              "      <td>0.0</td>\n",
              "      <td>0.1</td>\n",
              "    </tr>\n",
              "  </tbody>\n",
              "</table>\n",
              "</div>\n",
              "      <button class=\"colab-df-convert\" onclick=\"convertToInteractive('df-82008edc-a0f2-4ecd-87f8-648473d95144')\"\n",
              "              title=\"Convert this dataframe to an interactive table.\"\n",
              "              style=\"display:none;\">\n",
              "        \n",
              "  <svg xmlns=\"http://www.w3.org/2000/svg\" height=\"24px\"viewBox=\"0 0 24 24\"\n",
              "       width=\"24px\">\n",
              "    <path d=\"M0 0h24v24H0V0z\" fill=\"none\"/>\n",
              "    <path d=\"M18.56 5.44l.94 2.06.94-2.06 2.06-.94-2.06-.94-.94-2.06-.94 2.06-2.06.94zm-11 1L8.5 8.5l.94-2.06 2.06-.94-2.06-.94L8.5 2.5l-.94 2.06-2.06.94zm10 10l.94 2.06.94-2.06 2.06-.94-2.06-.94-.94-2.06-.94 2.06-2.06.94z\"/><path d=\"M17.41 7.96l-1.37-1.37c-.4-.4-.92-.59-1.43-.59-.52 0-1.04.2-1.43.59L10.3 9.45l-7.72 7.72c-.78.78-.78 2.05 0 2.83L4 21.41c.39.39.9.59 1.41.59.51 0 1.02-.2 1.41-.59l7.78-7.78 2.81-2.81c.8-.78.8-2.07 0-2.86zM5.41 20L4 18.59l7.72-7.72 1.47 1.35L5.41 20z\"/>\n",
              "  </svg>\n",
              "      </button>\n",
              "      \n",
              "  <style>\n",
              "    .colab-df-container {\n",
              "      display:flex;\n",
              "      flex-wrap:wrap;\n",
              "      gap: 12px;\n",
              "    }\n",
              "\n",
              "    .colab-df-convert {\n",
              "      background-color: #E8F0FE;\n",
              "      border: none;\n",
              "      border-radius: 50%;\n",
              "      cursor: pointer;\n",
              "      display: none;\n",
              "      fill: #1967D2;\n",
              "      height: 32px;\n",
              "      padding: 0 0 0 0;\n",
              "      width: 32px;\n",
              "    }\n",
              "\n",
              "    .colab-df-convert:hover {\n",
              "      background-color: #E2EBFA;\n",
              "      box-shadow: 0px 1px 2px rgba(60, 64, 67, 0.3), 0px 1px 3px 1px rgba(60, 64, 67, 0.15);\n",
              "      fill: #174EA6;\n",
              "    }\n",
              "\n",
              "    [theme=dark] .colab-df-convert {\n",
              "      background-color: #3B4455;\n",
              "      fill: #D2E3FC;\n",
              "    }\n",
              "\n",
              "    [theme=dark] .colab-df-convert:hover {\n",
              "      background-color: #434B5C;\n",
              "      box-shadow: 0px 1px 3px 1px rgba(0, 0, 0, 0.15);\n",
              "      filter: drop-shadow(0px 1px 2px rgba(0, 0, 0, 0.3));\n",
              "      fill: #FFFFFF;\n",
              "    }\n",
              "  </style>\n",
              "\n",
              "      <script>\n",
              "        const buttonEl =\n",
              "          document.querySelector('#df-82008edc-a0f2-4ecd-87f8-648473d95144 button.colab-df-convert');\n",
              "        buttonEl.style.display =\n",
              "          google.colab.kernel.accessAllowed ? 'block' : 'none';\n",
              "\n",
              "        async function convertToInteractive(key) {\n",
              "          const element = document.querySelector('#df-82008edc-a0f2-4ecd-87f8-648473d95144');\n",
              "          const dataTable =\n",
              "            await google.colab.kernel.invokeFunction('convertToInteractive',\n",
              "                                                     [key], {});\n",
              "          if (!dataTable) return;\n",
              "\n",
              "          const docLinkHtml = 'Like what you see? Visit the ' +\n",
              "            '<a target=\"_blank\" href=https://colab.research.google.com/notebooks/data_table.ipynb>data table notebook</a>'\n",
              "            + ' to learn more about interactive tables.';\n",
              "          element.innerHTML = '';\n",
              "          dataTable['output_type'] = 'display_data';\n",
              "          await google.colab.output.renderOutput(dataTable, element);\n",
              "          const docLink = document.createElement('div');\n",
              "          docLink.innerHTML = docLinkHtml;\n",
              "          element.appendChild(docLink);\n",
              "        }\n",
              "      </script>\n",
              "    </div>\n",
              "  </div>\n",
              "  "
            ],
            "text/plain": [
              "   id  ... offense_rating\n",
              "0   1  ...            0.2\n",
              "1   2  ...            1.1\n",
              "2   3  ...            2.4\n",
              "3   4  ...            0.0\n",
              "4   5  ...            0.1\n",
              "\n",
              "[5 rows x 6 columns]"
            ]
          },
          "metadata": {},
          "execution_count": 4
        }
      ]
    },
    {
      "cell_type": "code",
      "metadata": {
        "id": "0hwSsQjKC7zm",
        "colab": {
          "base_uri": "https://localhost:8080/"
        },
        "outputId": "7bcfdf30-c0e9-4a10-df2f-bf204a96ac63"
      },
      "source": [
        "file=file.drop(columns='humor_rating')\n",
        "file=file.drop(columns='humor_controversy')\n",
        "file=file.drop(columns='offense_rating')\n",
        "file=file.drop(columns='id')\n",
        "print('File length',len(file))"
      ],
      "execution_count": null,
      "outputs": [
        {
          "output_type": "stream",
          "name": "stdout",
          "text": [
            "File length 8000\n"
          ]
        }
      ]
    },
    {
      "cell_type": "code",
      "metadata": {
        "id": "dVCmg2HjG_XD",
        "colab": {
          "base_uri": "https://localhost:8080/",
          "height": 423
        },
        "outputId": "febcdc5a-b831-4d91-9f3b-a554876c2a05"
      },
      "source": [
        "from sklearn.preprocessing import LabelEncoder\n",
        "file['labels']=LabelEncoder().fit_transform(file['is_humor'])\n",
        "file=file.drop(columns='is_humor')\n",
        "file"
      ],
      "execution_count": null,
      "outputs": [
        {
          "output_type": "execute_result",
          "data": {
            "text/html": [
              "\n",
              "  <div id=\"df-28998c22-66b5-4a35-862d-978f1f0dba10\">\n",
              "    <div class=\"colab-df-container\">\n",
              "      <div>\n",
              "<style scoped>\n",
              "    .dataframe tbody tr th:only-of-type {\n",
              "        vertical-align: middle;\n",
              "    }\n",
              "\n",
              "    .dataframe tbody tr th {\n",
              "        vertical-align: top;\n",
              "    }\n",
              "\n",
              "    .dataframe thead th {\n",
              "        text-align: right;\n",
              "    }\n",
              "</style>\n",
              "<table border=\"1\" class=\"dataframe\">\n",
              "  <thead>\n",
              "    <tr style=\"text-align: right;\">\n",
              "      <th></th>\n",
              "      <th>text</th>\n",
              "      <th>labels</th>\n",
              "    </tr>\n",
              "  </thead>\n",
              "  <tbody>\n",
              "    <tr>\n",
              "      <th>0</th>\n",
              "      <td>TENNESSEE: We're the best state. Nobody even c...</td>\n",
              "      <td>1</td>\n",
              "    </tr>\n",
              "    <tr>\n",
              "      <th>1</th>\n",
              "      <td>A man inserted an advertisement in the classif...</td>\n",
              "      <td>1</td>\n",
              "    </tr>\n",
              "    <tr>\n",
              "      <th>2</th>\n",
              "      <td>How many men does it take to open a can of bee...</td>\n",
              "      <td>1</td>\n",
              "    </tr>\n",
              "    <tr>\n",
              "      <th>3</th>\n",
              "      <td>Told my mom I hit 1200 Twitter followers. She ...</td>\n",
              "      <td>1</td>\n",
              "    </tr>\n",
              "    <tr>\n",
              "      <th>4</th>\n",
              "      <td>Roses are dead. Love is fake. Weddings are bas...</td>\n",
              "      <td>1</td>\n",
              "    </tr>\n",
              "    <tr>\n",
              "      <th>...</th>\n",
              "      <td>...</td>\n",
              "      <td>...</td>\n",
              "    </tr>\n",
              "    <tr>\n",
              "      <th>7995</th>\n",
              "      <td>Lack of awareness of the pervasiveness of raci...</td>\n",
              "      <td>0</td>\n",
              "    </tr>\n",
              "    <tr>\n",
              "      <th>7996</th>\n",
              "      <td>Why are aspirins white? Because they work sorry</td>\n",
              "      <td>1</td>\n",
              "    </tr>\n",
              "    <tr>\n",
              "      <th>7997</th>\n",
              "      <td>Today, we Americans celebrate our independence...</td>\n",
              "      <td>1</td>\n",
              "    </tr>\n",
              "    <tr>\n",
              "      <th>7998</th>\n",
              "      <td>How to keep the flies off the bride at an Ital...</td>\n",
              "      <td>1</td>\n",
              "    </tr>\n",
              "    <tr>\n",
              "      <th>7999</th>\n",
              "      <td>\"Each ounce of sunflower seeds gives you 37% o...</td>\n",
              "      <td>0</td>\n",
              "    </tr>\n",
              "  </tbody>\n",
              "</table>\n",
              "<p>8000 rows × 2 columns</p>\n",
              "</div>\n",
              "      <button class=\"colab-df-convert\" onclick=\"convertToInteractive('df-28998c22-66b5-4a35-862d-978f1f0dba10')\"\n",
              "              title=\"Convert this dataframe to an interactive table.\"\n",
              "              style=\"display:none;\">\n",
              "        \n",
              "  <svg xmlns=\"http://www.w3.org/2000/svg\" height=\"24px\"viewBox=\"0 0 24 24\"\n",
              "       width=\"24px\">\n",
              "    <path d=\"M0 0h24v24H0V0z\" fill=\"none\"/>\n",
              "    <path d=\"M18.56 5.44l.94 2.06.94-2.06 2.06-.94-2.06-.94-.94-2.06-.94 2.06-2.06.94zm-11 1L8.5 8.5l.94-2.06 2.06-.94-2.06-.94L8.5 2.5l-.94 2.06-2.06.94zm10 10l.94 2.06.94-2.06 2.06-.94-2.06-.94-.94-2.06-.94 2.06-2.06.94z\"/><path d=\"M17.41 7.96l-1.37-1.37c-.4-.4-.92-.59-1.43-.59-.52 0-1.04.2-1.43.59L10.3 9.45l-7.72 7.72c-.78.78-.78 2.05 0 2.83L4 21.41c.39.39.9.59 1.41.59.51 0 1.02-.2 1.41-.59l7.78-7.78 2.81-2.81c.8-.78.8-2.07 0-2.86zM5.41 20L4 18.59l7.72-7.72 1.47 1.35L5.41 20z\"/>\n",
              "  </svg>\n",
              "      </button>\n",
              "      \n",
              "  <style>\n",
              "    .colab-df-container {\n",
              "      display:flex;\n",
              "      flex-wrap:wrap;\n",
              "      gap: 12px;\n",
              "    }\n",
              "\n",
              "    .colab-df-convert {\n",
              "      background-color: #E8F0FE;\n",
              "      border: none;\n",
              "      border-radius: 50%;\n",
              "      cursor: pointer;\n",
              "      display: none;\n",
              "      fill: #1967D2;\n",
              "      height: 32px;\n",
              "      padding: 0 0 0 0;\n",
              "      width: 32px;\n",
              "    }\n",
              "\n",
              "    .colab-df-convert:hover {\n",
              "      background-color: #E2EBFA;\n",
              "      box-shadow: 0px 1px 2px rgba(60, 64, 67, 0.3), 0px 1px 3px 1px rgba(60, 64, 67, 0.15);\n",
              "      fill: #174EA6;\n",
              "    }\n",
              "\n",
              "    [theme=dark] .colab-df-convert {\n",
              "      background-color: #3B4455;\n",
              "      fill: #D2E3FC;\n",
              "    }\n",
              "\n",
              "    [theme=dark] .colab-df-convert:hover {\n",
              "      background-color: #434B5C;\n",
              "      box-shadow: 0px 1px 3px 1px rgba(0, 0, 0, 0.15);\n",
              "      filter: drop-shadow(0px 1px 2px rgba(0, 0, 0, 0.3));\n",
              "      fill: #FFFFFF;\n",
              "    }\n",
              "  </style>\n",
              "\n",
              "      <script>\n",
              "        const buttonEl =\n",
              "          document.querySelector('#df-28998c22-66b5-4a35-862d-978f1f0dba10 button.colab-df-convert');\n",
              "        buttonEl.style.display =\n",
              "          google.colab.kernel.accessAllowed ? 'block' : 'none';\n",
              "\n",
              "        async function convertToInteractive(key) {\n",
              "          const element = document.querySelector('#df-28998c22-66b5-4a35-862d-978f1f0dba10');\n",
              "          const dataTable =\n",
              "            await google.colab.kernel.invokeFunction('convertToInteractive',\n",
              "                                                     [key], {});\n",
              "          if (!dataTable) return;\n",
              "\n",
              "          const docLinkHtml = 'Like what you see? Visit the ' +\n",
              "            '<a target=\"_blank\" href=https://colab.research.google.com/notebooks/data_table.ipynb>data table notebook</a>'\n",
              "            + ' to learn more about interactive tables.';\n",
              "          element.innerHTML = '';\n",
              "          dataTable['output_type'] = 'display_data';\n",
              "          await google.colab.output.renderOutput(dataTable, element);\n",
              "          const docLink = document.createElement('div');\n",
              "          docLink.innerHTML = docLinkHtml;\n",
              "          element.appendChild(docLink);\n",
              "        }\n",
              "      </script>\n",
              "    </div>\n",
              "  </div>\n",
              "  "
            ],
            "text/plain": [
              "                                                   text  labels\n",
              "0     TENNESSEE: We're the best state. Nobody even c...       1\n",
              "1     A man inserted an advertisement in the classif...       1\n",
              "2     How many men does it take to open a can of bee...       1\n",
              "3     Told my mom I hit 1200 Twitter followers. She ...       1\n",
              "4     Roses are dead. Love is fake. Weddings are bas...       1\n",
              "...                                                 ...     ...\n",
              "7995  Lack of awareness of the pervasiveness of raci...       0\n",
              "7996    Why are aspirins white? Because they work sorry       1\n",
              "7997  Today, we Americans celebrate our independence...       1\n",
              "7998  How to keep the flies off the bride at an Ital...       1\n",
              "7999  \"Each ounce of sunflower seeds gives you 37% o...       0\n",
              "\n",
              "[8000 rows x 2 columns]"
            ]
          },
          "metadata": {},
          "execution_count": 6
        }
      ]
    },
    {
      "cell_type": "code",
      "source": [
        "import collections\n",
        "counter=collections.Counter(file['labels'])\n",
        "print(counter)\n",
        "#file['labels'].value_counts().plot(kind='bar')"
      ],
      "metadata": {
        "colab": {
          "base_uri": "https://localhost:8080/"
        },
        "id": "kPeS-99Kmdkc",
        "outputId": "54be6694-80f6-4d21-99a2-14077058a0a4"
      },
      "execution_count": null,
      "outputs": [
        {
          "output_type": "stream",
          "name": "stdout",
          "text": [
            "Counter({1: 4932, 0: 3068})\n"
          ]
        }
      ]
    },
    {
      "cell_type": "markdown",
      "metadata": {
        "id": "XCEHzWxPTL1X"
      },
      "source": [
        "# Data transformation"
      ]
    },
    {
      "cell_type": "code",
      "metadata": {
        "colab": {
          "base_uri": "https://localhost:8080/"
        },
        "id": "xZAlKk9rb6bl",
        "outputId": "20164270-0d18-4937-f15e-002ef4fe42db"
      },
      "source": [
        "file['text'] = file['text'].values.tolist()\n",
        "print(file['text'])"
      ],
      "execution_count": null,
      "outputs": [
        {
          "output_type": "stream",
          "name": "stdout",
          "text": [
            "0       TENNESSEE: We're the best state. Nobody even c...\n",
            "1       A man inserted an advertisement in the classif...\n",
            "2       How many men does it take to open a can of bee...\n",
            "3       Told my mom I hit 1200 Twitter followers. She ...\n",
            "4       Roses are dead. Love is fake. Weddings are bas...\n",
            "                              ...                        \n",
            "7995    Lack of awareness of the pervasiveness of raci...\n",
            "7996      Why are aspirins white? Because they work sorry\n",
            "7997    Today, we Americans celebrate our independence...\n",
            "7998    How to keep the flies off the bride at an Ital...\n",
            "7999    \"Each ounce of sunflower seeds gives you 37% o...\n",
            "Name: text, Length: 8000, dtype: object\n"
          ]
        }
      ]
    },
    {
      "cell_type": "code",
      "metadata": {
        "id": "dsHW03VZcs81"
      },
      "source": [
        "file['labels'] = file['labels'].values.tolist()"
      ],
      "execution_count": null,
      "outputs": []
    },
    {
      "cell_type": "code",
      "metadata": {
        "colab": {
          "base_uri": "https://localhost:8080/"
        },
        "id": "aKJS1-ng6dtE",
        "outputId": "7462aa10-742c-4cb0-f037-e3853a640f81"
      },
      "source": [
        "file['labels']"
      ],
      "execution_count": null,
      "outputs": [
        {
          "output_type": "execute_result",
          "data": {
            "text/plain": [
              "0       1\n",
              "1       1\n",
              "2       1\n",
              "3       1\n",
              "4       1\n",
              "       ..\n",
              "7995    0\n",
              "7996    1\n",
              "7997    1\n",
              "7998    1\n",
              "7999    0\n",
              "Name: labels, Length: 8000, dtype: int64"
            ]
          },
          "metadata": {},
          "execution_count": 10
        }
      ]
    },
    {
      "cell_type": "markdown",
      "metadata": {
        "id": "WJ2RRy84UOrO"
      },
      "source": [
        "# Tokenization (p 183)"
      ]
    },
    {
      "cell_type": "code",
      "metadata": {
        "id": "nQdWzQdXKFHH"
      },
      "source": [
        "from keras.preprocessing.text import Tokenizer\n",
        "\n",
        "tokenizer = Tokenizer(num_words=10000)\n",
        "tokenizer.fit_on_texts(file['text'])\n",
        "sequences = tokenizer.texts_to_sequences(file['text'])       #[[278, 1, 136, 560, 677, 148, 272, 561, 449, 91, 1, 346, 259, 408], [2, 80, 43, 8, 1, 55, 242, 1,\n",
        "one_hot_encoded = tokenizer.texts_to_matrix(file['text'], mode='binary') # array([0., 1., 0., 0., 0., 0., 0., 0., 0., 0., 0., 0., 0., 0., 0., 0., 0.,  (1k values)\n",
        "word_index = tokenizer.word_index                            #{'the': 1, 'a': 2, 'to': 3, 'i': 4, 'you': 5, 'and': 6, 'of': 7,"
      ],
      "execution_count": null,
      "outputs": []
    },
    {
      "cell_type": "code",
      "metadata": {
        "id": "8y7RVhaWUt36"
      },
      "source": [
        "#tokenizer"
      ],
      "execution_count": null,
      "outputs": []
    },
    {
      "cell_type": "code",
      "metadata": {
        "id": "jsEACA_kyGbD"
      },
      "source": [
        "#print(sequences)"
      ],
      "execution_count": null,
      "outputs": []
    },
    {
      "cell_type": "code",
      "metadata": {
        "id": "7Lq2zvuJyGgV"
      },
      "source": [
        "#one_hot_encoded"
      ],
      "execution_count": null,
      "outputs": []
    },
    {
      "cell_type": "code",
      "metadata": {
        "id": "dd56e6a9yUIa"
      },
      "source": [
        "#one_hot_encoded.shape"
      ],
      "execution_count": null,
      "outputs": []
    },
    {
      "cell_type": "code",
      "metadata": {
        "id": "eIRZLqSEyGky"
      },
      "source": [
        "#print(word_index)"
      ],
      "execution_count": null,
      "outputs": []
    },
    {
      "cell_type": "code",
      "metadata": {
        "colab": {
          "base_uri": "https://localhost:8080/"
        },
        "id": "qGNlvSB8JHvm",
        "outputId": "57f1c706-872f-4c1c-a503-fa082c10414d"
      },
      "source": [
        "one_hot_encoded.shape"
      ],
      "execution_count": null,
      "outputs": [
        {
          "output_type": "execute_result",
          "data": {
            "text/plain": [
              "(8000, 10000)"
            ]
          },
          "metadata": {},
          "execution_count": 17
        }
      ]
    },
    {
      "cell_type": "code",
      "source": [
        "y=file['labels']"
      ],
      "metadata": {
        "id": "NME_BKM5HRgW"
      },
      "execution_count": null,
      "outputs": []
    },
    {
      "cell_type": "markdown",
      "metadata": {
        "id": "PQb4WpfgEtLx"
      },
      "source": [
        "#Split train test"
      ]
    },
    {
      "cell_type": "code",
      "source": [
        "from sklearn.model_selection import train_test_split\n",
        "import tensorflow as tf\n",
        "\n",
        "xtrain, xremaining, ytrain, yremaining = train_test_split(one_hot_encoded,y, train_size=0.6)\n",
        "xval, xtest, yval, ytest = train_test_split(xremaining, yremaining, test_size=0.5)\n",
        "print('xtrain',len(xtrain), 'ytrain',len(ytrain),'xval', len(xval),'yval', len(yval),'xtest', len(xtest),'ytest', len(ytest))"
      ],
      "metadata": {
        "colab": {
          "base_uri": "https://localhost:8080/"
        },
        "id": "E8v6jlVnFPlB",
        "outputId": "3fa031c0-bc1f-4a3c-9efa-4b4b0253954a"
      },
      "execution_count": null,
      "outputs": [
        {
          "output_type": "stream",
          "name": "stdout",
          "text": [
            "xtrain 4800 ytrain 4800 xval 1600 yval 1600 xtest 1600 ytest 1600\n"
          ]
        }
      ]
    },
    {
      "cell_type": "markdown",
      "source": [
        "- xtrain..ytrain 4800 4800\n",
        "- xval.....yval...1600 1600\n",
        "- xtest...ytest..1600 1600 "
      ],
      "metadata": {
        "id": "c8cRXwCfU-rh"
      }
    },
    {
      "cell_type": "markdown",
      "metadata": {
        "id": "qlwMgosblRo7"
      },
      "source": [
        "#model definition p 72"
      ]
    },
    {
      "cell_type": "code",
      "metadata": {
        "id": "5N0K-2hekyoE"
      },
      "source": [
        "tf.random.set_seed(11)\n",
        "\n",
        "from keras import models\n",
        "from keras import layers\n",
        "model = models.Sequential()\n",
        "model.add(layers.Dense(64, activation='relu', input_shape=(10000,)))\n",
        "model.add(layers.Dense(32, activation='relu'))\n",
        "#model.add((layers.Dropout(0.9)))\n",
        "\n",
        "model.add(layers.Dense(1, activation='sigmoid'))"
      ],
      "execution_count": null,
      "outputs": []
    },
    {
      "cell_type": "markdown",
      "metadata": {
        "id": "2IZdQIiRncj7"
      },
      "source": [
        "#Training the model p 74"
      ]
    },
    {
      "cell_type": "code",
      "metadata": {
        "colab": {
          "base_uri": "https://localhost:8080/"
        },
        "id": "Ey-RF4gkkyxv",
        "outputId": "4447ba57-452b-45c9-91ea-5053e5c77177"
      },
      "source": [
        "\n",
        "model.compile(optimizer='rmsprop',\n",
        "              loss='binary_crossentropy',\n",
        "              metrics=['acc'])\n",
        "history = model.fit(xtrain,\n",
        "                    ytrain, \n",
        "                    epochs=100,\n",
        "                    batch_size=512,\n",
        "                    validation_data=(xval, yval))"
      ],
      "execution_count": null,
      "outputs": [
        {
          "output_type": "stream",
          "name": "stdout",
          "text": [
            "Epoch 1/100\n",
            "10/10 [==============================] - 3s 50ms/step - loss: 0.6287 - acc: 0.6569 - val_loss: 0.5413 - val_acc: 0.7881\n",
            "Epoch 2/100\n",
            "10/10 [==============================] - 0s 24ms/step - loss: 0.4447 - acc: 0.8673 - val_loss: 0.4259 - val_acc: 0.8294\n",
            "Epoch 3/100\n",
            "10/10 [==============================] - 0s 24ms/step - loss: 0.3067 - acc: 0.9119 - val_loss: 0.3689 - val_acc: 0.8438\n",
            "Epoch 4/100\n",
            "10/10 [==============================] - 0s 21ms/step - loss: 0.2229 - acc: 0.9400 - val_loss: 0.3596 - val_acc: 0.8413\n",
            "Epoch 5/100\n",
            "10/10 [==============================] - 0s 24ms/step - loss: 0.1672 - acc: 0.9565 - val_loss: 0.3431 - val_acc: 0.8525\n",
            "Epoch 6/100\n",
            "10/10 [==============================] - 0s 18ms/step - loss: 0.1260 - acc: 0.9694 - val_loss: 0.3513 - val_acc: 0.8512\n",
            "Epoch 7/100\n",
            "10/10 [==============================] - 0s 23ms/step - loss: 0.0951 - acc: 0.9775 - val_loss: 0.3693 - val_acc: 0.8444\n",
            "Epoch 8/100\n",
            "10/10 [==============================] - 0s 20ms/step - loss: 0.0722 - acc: 0.9833 - val_loss: 0.4142 - val_acc: 0.8331\n",
            "Epoch 9/100\n",
            "10/10 [==============================] - 0s 19ms/step - loss: 0.0543 - acc: 0.9898 - val_loss: 0.4301 - val_acc: 0.8331\n",
            "Epoch 10/100\n",
            "10/10 [==============================] - 0s 20ms/step - loss: 0.0404 - acc: 0.9927 - val_loss: 0.4783 - val_acc: 0.8288\n",
            "Epoch 11/100\n",
            "10/10 [==============================] - 0s 22ms/step - loss: 0.0308 - acc: 0.9944 - val_loss: 0.4984 - val_acc: 0.8300\n",
            "Epoch 12/100\n",
            "10/10 [==============================] - 0s 20ms/step - loss: 0.0224 - acc: 0.9971 - val_loss: 0.5275 - val_acc: 0.8325\n",
            "Epoch 13/100\n",
            "10/10 [==============================] - 0s 23ms/step - loss: 0.0168 - acc: 0.9973 - val_loss: 0.5840 - val_acc: 0.8294\n",
            "Epoch 14/100\n",
            "10/10 [==============================] - 0s 23ms/step - loss: 0.0123 - acc: 0.9983 - val_loss: 0.6263 - val_acc: 0.8313\n",
            "Epoch 15/100\n",
            "10/10 [==============================] - 0s 20ms/step - loss: 0.0092 - acc: 0.9992 - val_loss: 0.6920 - val_acc: 0.8244\n",
            "Epoch 16/100\n",
            "10/10 [==============================] - 0s 20ms/step - loss: 0.0067 - acc: 0.9994 - val_loss: 0.7494 - val_acc: 0.8275\n",
            "Epoch 17/100\n",
            "10/10 [==============================] - 0s 23ms/step - loss: 0.0050 - acc: 0.9994 - val_loss: 0.8015 - val_acc: 0.8263\n",
            "Epoch 18/100\n",
            "10/10 [==============================] - 0s 20ms/step - loss: 0.0038 - acc: 0.9994 - val_loss: 0.8416 - val_acc: 0.8256\n",
            "Epoch 19/100\n",
            "10/10 [==============================] - 0s 20ms/step - loss: 0.0029 - acc: 0.9994 - val_loss: 0.9111 - val_acc: 0.8244\n",
            "Epoch 20/100\n",
            "10/10 [==============================] - 0s 20ms/step - loss: 0.0022 - acc: 0.9996 - val_loss: 0.9678 - val_acc: 0.8238\n",
            "Epoch 21/100\n",
            "10/10 [==============================] - 0s 24ms/step - loss: 0.0016 - acc: 0.9996 - val_loss: 1.0453 - val_acc: 0.8213\n",
            "Epoch 22/100\n",
            "10/10 [==============================] - 0s 21ms/step - loss: 0.0012 - acc: 0.9998 - val_loss: 1.0930 - val_acc: 0.8206\n",
            "Epoch 23/100\n",
            "10/10 [==============================] - 0s 20ms/step - loss: 9.0729e-04 - acc: 0.9998 - val_loss: 1.1630 - val_acc: 0.8213\n",
            "Epoch 24/100\n",
            "10/10 [==============================] - 0s 21ms/step - loss: 6.4213e-04 - acc: 0.9998 - val_loss: 1.1888 - val_acc: 0.8156\n",
            "Epoch 25/100\n",
            "10/10 [==============================] - 0s 20ms/step - loss: 4.4490e-04 - acc: 1.0000 - val_loss: 1.2878 - val_acc: 0.8156\n",
            "Epoch 26/100\n",
            "10/10 [==============================] - 0s 20ms/step - loss: 3.1590e-04 - acc: 1.0000 - val_loss: 1.3344 - val_acc: 0.8175\n",
            "Epoch 27/100\n",
            "10/10 [==============================] - 0s 20ms/step - loss: 2.3200e-04 - acc: 1.0000 - val_loss: 1.3792 - val_acc: 0.8125\n",
            "Epoch 28/100\n",
            "10/10 [==============================] - 0s 20ms/step - loss: 1.6909e-04 - acc: 1.0000 - val_loss: 1.4424 - val_acc: 0.8100\n",
            "Epoch 29/100\n",
            "10/10 [==============================] - 0s 21ms/step - loss: 1.1571e-04 - acc: 1.0000 - val_loss: 1.5107 - val_acc: 0.8106\n",
            "Epoch 30/100\n",
            "10/10 [==============================] - 0s 20ms/step - loss: 8.2875e-05 - acc: 1.0000 - val_loss: 1.5637 - val_acc: 0.8050\n",
            "Epoch 31/100\n",
            "10/10 [==============================] - 0s 20ms/step - loss: 5.9210e-05 - acc: 1.0000 - val_loss: 1.6311 - val_acc: 0.8075\n",
            "Epoch 32/100\n",
            "10/10 [==============================] - 0s 23ms/step - loss: 4.2255e-05 - acc: 1.0000 - val_loss: 1.6835 - val_acc: 0.8031\n",
            "Epoch 33/100\n",
            "10/10 [==============================] - 0s 21ms/step - loss: 2.9985e-05 - acc: 1.0000 - val_loss: 1.7697 - val_acc: 0.8044\n",
            "Epoch 34/100\n",
            "10/10 [==============================] - 0s 20ms/step - loss: 2.1865e-05 - acc: 1.0000 - val_loss: 1.8281 - val_acc: 0.8025\n",
            "Epoch 35/100\n",
            "10/10 [==============================] - 0s 23ms/step - loss: 1.5330e-05 - acc: 1.0000 - val_loss: 1.8777 - val_acc: 0.8000\n",
            "Epoch 36/100\n",
            "10/10 [==============================] - 0s 23ms/step - loss: 1.1646e-05 - acc: 1.0000 - val_loss: 1.9711 - val_acc: 0.8069\n",
            "Epoch 37/100\n",
            "10/10 [==============================] - 0s 20ms/step - loss: 8.0908e-06 - acc: 1.0000 - val_loss: 1.9929 - val_acc: 0.8019\n",
            "Epoch 38/100\n",
            "10/10 [==============================] - 0s 20ms/step - loss: 6.1895e-06 - acc: 1.0000 - val_loss: 2.0251 - val_acc: 0.8019\n",
            "Epoch 39/100\n",
            "10/10 [==============================] - 0s 21ms/step - loss: 4.8025e-06 - acc: 1.0000 - val_loss: 2.0838 - val_acc: 0.8006\n",
            "Epoch 40/100\n",
            "10/10 [==============================] - 0s 21ms/step - loss: 3.4177e-06 - acc: 1.0000 - val_loss: 2.1330 - val_acc: 0.8012\n",
            "Epoch 41/100\n",
            "10/10 [==============================] - 0s 20ms/step - loss: 2.7000e-06 - acc: 1.0000 - val_loss: 2.1696 - val_acc: 0.8025\n",
            "Epoch 42/100\n",
            "10/10 [==============================] - 0s 23ms/step - loss: 2.0263e-06 - acc: 1.0000 - val_loss: 2.2033 - val_acc: 0.8012\n",
            "Epoch 43/100\n",
            "10/10 [==============================] - 0s 19ms/step - loss: 1.5432e-06 - acc: 1.0000 - val_loss: 2.2506 - val_acc: 0.8012\n",
            "Epoch 44/100\n",
            "10/10 [==============================] - 0s 21ms/step - loss: 1.2130e-06 - acc: 1.0000 - val_loss: 2.2852 - val_acc: 0.8037\n",
            "Epoch 45/100\n",
            "10/10 [==============================] - 0s 22ms/step - loss: 8.9808e-07 - acc: 1.0000 - val_loss: 2.3268 - val_acc: 0.8019\n",
            "Epoch 46/100\n",
            "10/10 [==============================] - 0s 20ms/step - loss: 6.9693e-07 - acc: 1.0000 - val_loss: 2.3648 - val_acc: 0.8006\n",
            "Epoch 47/100\n",
            "10/10 [==============================] - 0s 20ms/step - loss: 5.5973e-07 - acc: 1.0000 - val_loss: 2.3900 - val_acc: 0.8012\n",
            "Epoch 48/100\n",
            "10/10 [==============================] - 0s 22ms/step - loss: 4.1563e-07 - acc: 1.0000 - val_loss: 2.4218 - val_acc: 0.8025\n",
            "Epoch 49/100\n",
            "10/10 [==============================] - 0s 20ms/step - loss: 3.4036e-07 - acc: 1.0000 - val_loss: 2.4596 - val_acc: 0.8012\n",
            "Epoch 50/100\n",
            "10/10 [==============================] - 0s 20ms/step - loss: 2.6526e-07 - acc: 1.0000 - val_loss: 2.4864 - val_acc: 0.8019\n",
            "Epoch 51/100\n",
            "10/10 [==============================] - 0s 20ms/step - loss: 2.1655e-07 - acc: 1.0000 - val_loss: 2.5188 - val_acc: 0.8006\n",
            "Epoch 52/100\n",
            "10/10 [==============================] - 0s 22ms/step - loss: 1.7609e-07 - acc: 1.0000 - val_loss: 2.5411 - val_acc: 0.8012\n",
            "Epoch 53/100\n",
            "10/10 [==============================] - 0s 20ms/step - loss: 1.4646e-07 - acc: 1.0000 - val_loss: 2.5634 - val_acc: 0.8012\n",
            "Epoch 54/100\n",
            "10/10 [==============================] - 0s 24ms/step - loss: 1.2451e-07 - acc: 1.0000 - val_loss: 2.5874 - val_acc: 0.8012\n",
            "Epoch 55/100\n",
            "10/10 [==============================] - 0s 20ms/step - loss: 1.0279e-07 - acc: 1.0000 - val_loss: 2.6097 - val_acc: 0.8012\n",
            "Epoch 56/100\n",
            "10/10 [==============================] - 0s 19ms/step - loss: 8.9039e-08 - acc: 1.0000 - val_loss: 2.6325 - val_acc: 0.8019\n",
            "Epoch 57/100\n",
            "10/10 [==============================] - 0s 20ms/step - loss: 7.8219e-08 - acc: 1.0000 - val_loss: 2.6552 - val_acc: 0.8019\n",
            "Epoch 58/100\n",
            "10/10 [==============================] - 0s 23ms/step - loss: 6.8073e-08 - acc: 1.0000 - val_loss: 2.6728 - val_acc: 0.8006\n",
            "Epoch 59/100\n",
            "10/10 [==============================] - 0s 20ms/step - loss: 5.9415e-08 - acc: 1.0000 - val_loss: 2.6874 - val_acc: 0.8012\n",
            "Epoch 60/100\n",
            "10/10 [==============================] - 0s 21ms/step - loss: 5.3067e-08 - acc: 1.0000 - val_loss: 2.7022 - val_acc: 0.8012\n",
            "Epoch 61/100\n",
            "10/10 [==============================] - 0s 20ms/step - loss: 4.7796e-08 - acc: 1.0000 - val_loss: 2.7154 - val_acc: 0.8012\n",
            "Epoch 62/100\n",
            "10/10 [==============================] - 0s 21ms/step - loss: 4.3282e-08 - acc: 1.0000 - val_loss: 2.7284 - val_acc: 0.8012\n",
            "Epoch 63/100\n",
            "10/10 [==============================] - 0s 24ms/step - loss: 3.9137e-08 - acc: 1.0000 - val_loss: 2.7444 - val_acc: 0.8006\n",
            "Epoch 64/100\n",
            "10/10 [==============================] - 0s 20ms/step - loss: 3.6282e-08 - acc: 1.0000 - val_loss: 2.7565 - val_acc: 0.8012\n",
            "Epoch 65/100\n",
            "10/10 [==============================] - 0s 20ms/step - loss: 3.2955e-08 - acc: 1.0000 - val_loss: 2.7708 - val_acc: 0.8006\n",
            "Epoch 66/100\n",
            "10/10 [==============================] - 0s 20ms/step - loss: 3.0631e-08 - acc: 1.0000 - val_loss: 2.7802 - val_acc: 0.8012\n",
            "Epoch 67/100\n",
            "10/10 [==============================] - 0s 19ms/step - loss: 2.8272e-08 - acc: 1.0000 - val_loss: 2.7928 - val_acc: 0.8012\n",
            "Epoch 68/100\n",
            "10/10 [==============================] - 0s 21ms/step - loss: 2.6546e-08 - acc: 1.0000 - val_loss: 2.8025 - val_acc: 0.8012\n",
            "Epoch 69/100\n",
            "10/10 [==============================] - 0s 20ms/step - loss: 2.4830e-08 - acc: 1.0000 - val_loss: 2.8108 - val_acc: 0.8012\n",
            "Epoch 70/100\n",
            "10/10 [==============================] - 0s 20ms/step - loss: 2.3242e-08 - acc: 1.0000 - val_loss: 2.8208 - val_acc: 0.8012\n",
            "Epoch 71/100\n",
            "10/10 [==============================] - 0s 20ms/step - loss: 2.1923e-08 - acc: 1.0000 - val_loss: 2.8313 - val_acc: 0.8012\n",
            "Epoch 72/100\n",
            "10/10 [==============================] - 0s 20ms/step - loss: 2.0671e-08 - acc: 1.0000 - val_loss: 2.8385 - val_acc: 0.8012\n",
            "Epoch 73/100\n",
            "10/10 [==============================] - 0s 20ms/step - loss: 1.9639e-08 - acc: 1.0000 - val_loss: 2.8474 - val_acc: 0.8006\n",
            "Epoch 74/100\n",
            "10/10 [==============================] - 0s 24ms/step - loss: 1.8733e-08 - acc: 1.0000 - val_loss: 2.8547 - val_acc: 0.8006\n",
            "Epoch 75/100\n",
            "10/10 [==============================] - 0s 23ms/step - loss: 1.7860e-08 - acc: 1.0000 - val_loss: 2.8619 - val_acc: 0.8012\n",
            "Epoch 76/100\n",
            "10/10 [==============================] - 0s 20ms/step - loss: 1.7045e-08 - acc: 1.0000 - val_loss: 2.8687 - val_acc: 0.8025\n",
            "Epoch 77/100\n",
            "10/10 [==============================] - 0s 22ms/step - loss: 1.6497e-08 - acc: 1.0000 - val_loss: 2.8756 - val_acc: 0.8012\n",
            "Epoch 78/100\n",
            "10/10 [==============================] - 0s 20ms/step - loss: 1.5699e-08 - acc: 1.0000 - val_loss: 2.8832 - val_acc: 0.8012\n",
            "Epoch 79/100\n",
            "10/10 [==============================] - 0s 20ms/step - loss: 1.4942e-08 - acc: 1.0000 - val_loss: 2.8887 - val_acc: 0.8012\n",
            "Epoch 80/100\n",
            "10/10 [==============================] - 0s 20ms/step - loss: 1.4438e-08 - acc: 1.0000 - val_loss: 2.8957 - val_acc: 0.8006\n",
            "Epoch 81/100\n",
            "10/10 [==============================] - 0s 23ms/step - loss: 1.3822e-08 - acc: 1.0000 - val_loss: 2.9016 - val_acc: 0.8006\n",
            "Epoch 82/100\n",
            "10/10 [==============================] - 0s 20ms/step - loss: 1.3415e-08 - acc: 1.0000 - val_loss: 2.9064 - val_acc: 0.8012\n",
            "Epoch 83/100\n",
            "10/10 [==============================] - 0s 21ms/step - loss: 1.2877e-08 - acc: 1.0000 - val_loss: 2.9122 - val_acc: 0.8012\n",
            "Epoch 84/100\n",
            "10/10 [==============================] - 0s 20ms/step - loss: 1.2438e-08 - acc: 1.0000 - val_loss: 2.9183 - val_acc: 0.8006\n",
            "Epoch 85/100\n",
            "10/10 [==============================] - 0s 23ms/step - loss: 1.2043e-08 - acc: 1.0000 - val_loss: 2.9224 - val_acc: 0.8019\n",
            "Epoch 86/100\n",
            "10/10 [==============================] - 0s 21ms/step - loss: 1.1666e-08 - acc: 1.0000 - val_loss: 2.9271 - val_acc: 0.8019\n",
            "Epoch 87/100\n",
            "10/10 [==============================] - 0s 24ms/step - loss: 1.1304e-08 - acc: 1.0000 - val_loss: 2.9323 - val_acc: 0.8019\n",
            "Epoch 88/100\n",
            "10/10 [==============================] - 0s 21ms/step - loss: 1.0956e-08 - acc: 1.0000 - val_loss: 2.9370 - val_acc: 0.8019\n",
            "Epoch 89/100\n",
            "10/10 [==============================] - 0s 20ms/step - loss: 1.0626e-08 - acc: 1.0000 - val_loss: 2.9416 - val_acc: 0.8019\n",
            "Epoch 90/100\n",
            "10/10 [==============================] - 0s 23ms/step - loss: 1.0332e-08 - acc: 1.0000 - val_loss: 2.9472 - val_acc: 0.8012\n",
            "Epoch 91/100\n",
            "10/10 [==============================] - 0s 21ms/step - loss: 1.0032e-08 - acc: 1.0000 - val_loss: 2.9501 - val_acc: 0.8019\n",
            "Epoch 92/100\n",
            "10/10 [==============================] - 0s 21ms/step - loss: 9.7716e-09 - acc: 1.0000 - val_loss: 2.9551 - val_acc: 0.8019\n",
            "Epoch 93/100\n",
            "10/10 [==============================] - 0s 20ms/step - loss: 9.5325e-09 - acc: 1.0000 - val_loss: 2.9591 - val_acc: 0.8019\n",
            "Epoch 94/100\n",
            "10/10 [==============================] - 0s 21ms/step - loss: 9.3087e-09 - acc: 1.0000 - val_loss: 2.9629 - val_acc: 0.8019\n",
            "Epoch 95/100\n",
            "10/10 [==============================] - 0s 20ms/step - loss: 9.0355e-09 - acc: 1.0000 - val_loss: 2.9667 - val_acc: 0.8019\n",
            "Epoch 96/100\n",
            "10/10 [==============================] - 0s 20ms/step - loss: 8.8488e-09 - acc: 1.0000 - val_loss: 2.9712 - val_acc: 0.8019\n",
            "Epoch 97/100\n",
            "10/10 [==============================] - 0s 20ms/step - loss: 8.6215e-09 - acc: 1.0000 - val_loss: 2.9743 - val_acc: 0.8019\n",
            "Epoch 98/100\n",
            "10/10 [==============================] - 0s 20ms/step - loss: 8.4540e-09 - acc: 1.0000 - val_loss: 2.9785 - val_acc: 0.8019\n",
            "Epoch 99/100\n",
            "10/10 [==============================] - 0s 21ms/step - loss: 8.2263e-09 - acc: 1.0000 - val_loss: 2.9814 - val_acc: 0.8019\n",
            "Epoch 100/100\n",
            "10/10 [==============================] - 0s 19ms/step - loss: 8.0691e-09 - acc: 1.0000 - val_loss: 2.9848 - val_acc: 0.8025\n"
          ]
        }
      ]
    },
    {
      "cell_type": "markdown",
      "metadata": {
        "id": "EXj0eKvtoh2r"
      },
      "source": [
        "# Plotting training and validation loss p 74"
      ]
    },
    {
      "cell_type": "code",
      "metadata": {
        "colab": {
          "base_uri": "https://localhost:8080/",
          "height": 295
        },
        "id": "gjePKtG8ofHo",
        "outputId": "3f3d1d44-ca41-407b-dfca-e97542a115e0"
      },
      "source": [
        "import matplotlib.pyplot as plt\n",
        "history_dict = history.history\n",
        "loss_values = history_dict['loss']\n",
        "val_loss_values = history_dict['val_loss']\n",
        "\n",
        "acc = history_dict['acc'] # is this line missing from the book by mistake? check\n",
        "\n",
        "epochs = range(1, len(acc) + 1)\n",
        "\n",
        "plt.plot(epochs, loss_values, 'bo', label='Training loss')\n",
        "plt.plot(epochs, val_loss_values, 'b', label='Validation loss')\n",
        "plt.title('Training and validation loss')\n",
        "plt.xlabel('Epochs')\n",
        "plt.ylabel('Loss')\n",
        "plt.legend()\n",
        "plt.show()"
      ],
      "execution_count": null,
      "outputs": [
        {
          "output_type": "display_data",
          "data": {
            "image/png": "[encoded data removed]",
            "text/plain": [
              "<Figure size 432x288 with 1 Axes>"
            ]
          },
          "metadata": {
            "needs_background": "light"
          }
        }
      ]
    },
    {
      "cell_type": "markdown",
      "source": [
        "the optimal numer of epochs is around 25, \n",
        "check https://www.geeksforgeeks.org/choose-optimal-number-of-epochs-to-train-a-neural-network-in-keras/"
      ],
      "metadata": {
        "id": "sIJsXGtoMFsU"
      }
    },
    {
      "cell_type": "markdown",
      "metadata": {
        "id": "e0EFf_Ubtcg0"
      },
      "source": [
        "#Plotting training and validation accuracy p 75"
      ]
    },
    {
      "cell_type": "code",
      "metadata": {
        "colab": {
          "base_uri": "https://localhost:8080/",
          "height": 295
        },
        "id": "P2N7jt-FosRh",
        "outputId": "c10f194c-9712-4441-c251-40a4dfae637f"
      },
      "source": [
        "plt.clf()\n",
        "acc_values = history_dict['acc']\n",
        "\n",
        "val_acc = history_dict['val_acc'] #CHECK THE CORRECTION. IN THE BOOK THERE MUST BE A MISTAKE\n",
        "\n",
        "#val_acc_values = history_dict['val_acc']\n",
        "\n",
        "plt.plot(epochs, acc, 'bo', label='Training acc')\n",
        "plt.plot(epochs, val_acc, 'b', label='Validation acc')\n",
        "plt.title('Training and validation accuracy')\n",
        "plt.xlabel('Epochs')\n",
        "plt.ylabel('Loss')\n",
        "plt.legend()\n",
        "plt.show()"
      ],
      "execution_count": null,
      "outputs": [
        {
          "output_type": "display_data",
          "data": {
            "image/png": "[encoded data removed]",
            "text/plain": [
              "<Figure size 432x288 with 1 Axes>"
            ]
          },
          "metadata": {
            "needs_background": "light"
          }
        }
      ]
    },
    {
      "cell_type": "markdown",
      "source": [
        "#Test the model on the testset"
      ],
      "metadata": {
        "id": "ExJaWdwOUQAD"
      }
    },
    {
      "cell_type": "code",
      "metadata": {
        "colab": {
          "base_uri": "https://localhost:8080/",
          "height": 712
        },
        "id": "Y09zP6OpSfms",
        "outputId": "d549f6ae-2913-495c-af65-e69b4d4a1f99"
      },
      "source": [
        "#CREATE MODEL FOR TEST \n",
        "tf.random.set_seed(11)\n",
        "\n",
        "from keras import models\n",
        "from keras import layers\n",
        "model = models.Sequential()\n",
        "model.add(layers.Dense(32, activation='relu', input_shape=(10000,)))\n",
        "model.add(layers.Dense(16, activation='relu'))\n",
        "model.add((layers.Dropout(0.5)))\n",
        "model.add(layers.Dense(1, activation='sigmoid'))\n",
        "\n",
        "#COMPILE AND RUN THE MODEL ON THE TEST\n",
        "model.compile(optimizer='rmsprop',\n",
        "              loss='binary_crossentropy',\n",
        "              metrics=['acc'])\n",
        "history = model.fit(xtrain,\n",
        "                    ytrain, \n",
        "                    epochs=4,\n",
        "                    batch_size=64,\n",
        "                    validation_data=(xtest, ytest))\n",
        "\n",
        "#PLOT THE TEST LOSS\n",
        "history_dict = history.history\n",
        "loss_values = history_dict['loss']\n",
        "val_loss_values = history_dict['val_loss']\n",
        "acc = history_dict['acc'] # is this line missing from the book by mistake? check\n",
        "epochs = range(1, len(acc) + 1)\n",
        "plt.plot(epochs, loss_values, 'bo', label='Training loss')\n",
        "plt.plot(epochs, val_loss_values, 'b', label='Validation loss')\n",
        "plt.title('Training and validation loss')\n",
        "plt.xlabel('Epochs')\n",
        "plt.ylabel('Loss')\n",
        "plt.legend()\n",
        "plt.show()\n",
        "\n",
        "#PLOT THE TEST VALIDATION\n",
        "plt.clf()\n",
        "acc_values = history_dict['acc']\n",
        "val_acc = history_dict['val_acc'] #CHECK THE CORRECTION. IN THE BOOK THERE MUST BE A MISTAKE\n",
        "#val_acc_values = history_dict['val_acc']\n",
        "plt.plot(epochs, acc, 'bo', label='Training acc')\n",
        "plt.plot(epochs, val_acc, 'b', label='Validation acc')\n",
        "plt.title('Training and validation accuracy')\n",
        "plt.xlabel('Epochs')\n",
        "plt.ylabel('Loss')\n",
        "plt.legend()\n",
        "plt.show()\n",
        "\n"
      ],
      "execution_count": null,
      "outputs": [
        {
          "output_type": "stream",
          "name": "stdout",
          "text": [
            "Epoch 1/4\n",
            "75/75 [==============================] - 2s 14ms/step - loss: 0.5859 - acc: 0.6927 - val_loss: 0.4695 - val_acc: 0.8238\n",
            "Epoch 2/4\n",
            "75/75 [==============================] - 1s 9ms/step - loss: 0.4114 - acc: 0.8308 - val_loss: 0.3619 - val_acc: 0.8544\n",
            "Epoch 3/4\n",
            "75/75 [==============================] - 1s 10ms/step - loss: 0.3079 - acc: 0.8850 - val_loss: 0.3238 - val_acc: 0.8706\n",
            "Epoch 4/4\n",
            "75/75 [==============================] - 1s 12ms/step - loss: 0.2340 - acc: 0.9192 - val_loss: 0.3303 - val_acc: 0.8719\n"
          ]
        },
        {
          "output_type": "display_data",
          "data": {
            "image/png": "[encoded data removed]",
            "text/plain": [
              "<Figure size 432x288 with 1 Axes>"
            ]
          },
          "metadata": {
            "needs_background": "light"
          }
        },
        {
          "output_type": "display_data",
          "data": {
            "image/png": "[encoded data removed]",
            "text/plain": [
              "<Figure size 432x288 with 1 Axes>"
            ]
          },
          "metadata": {
            "needs_background": "light"
          }
        }
      ]
    },
    {
      "cell_type": "markdown",
      "source": [
        "# Calculate the metrics\n"
      ],
      "metadata": {
        "id": "7IEsPSTV_y1V"
      }
    },
    {
      "cell_type": "markdown",
      "source": [
        "code from https://machinelearningmastery.com/how-to-calculate-precision-recall-f1-and-more-for-deep-learning-models/"
      ],
      "metadata": {
        "id": "UjsGeWmHrOlj"
      }
    },
    {
      "cell_type": "code",
      "source": [
        "from sklearn.metrics import accuracy_score\n",
        "from sklearn.metrics import precision_score\n",
        "from sklearn.metrics import recall_score\n",
        "from sklearn.metrics import f1_score\n",
        "from sklearn.metrics import cohen_kappa_score\n",
        "from sklearn.metrics import roc_auc_score\n",
        "from sklearn.metrics import confusion_matrix\n",
        "from keras.models import Sequential\n",
        "from keras.layers import Dense\n",
        "tf.random.set_seed(11) \n",
        " \n",
        "# predict probabilities for test set\n",
        "yhat_probs = model.predict(xtest, verbose=0)\n",
        "\n",
        "# predict crisp classes for test set\n",
        "yhat_classes = model.predict(xtest, verbose=0)\n",
        "yhat_classes = np.where(yhat_classes > 0.5, 1, 0)\n",
        "print(yhat_classes)\n",
        "\n",
        "# reduce to 1d array\n",
        "yhat_probs = yhat_probs[:, 0]\n",
        "yhat_classes = yhat_classes[:, 0]\n",
        " \n",
        "# accuracy: (tp + tn) / (p + n)\n",
        "accuracy = accuracy_score(ytest, yhat_classes)\n",
        "print('Accuracy: %f' % accuracy)\n",
        "# precision tp / (tp + fp)\n",
        "precision = precision_score(ytest, yhat_classes)\n",
        "print('Precision: %f' % precision)\n",
        "# recall: tp / (tp + fn)\n",
        "recall = recall_score(ytest, yhat_classes)\n",
        "print('Recall: %f' % recall)\n",
        "# f1: 2 tp / (2 tp + fp + fn)\n",
        "f1 = f1_score(ytest, yhat_classes)\n",
        "print('F1 score: %f' % f1)\n",
        " \n",
        "# confusion matrix\n",
        "matrix = confusion_matrix(ytest, yhat_classes)\n",
        "print(matrix)"
      ],
      "metadata": {
        "colab": {
          "base_uri": "https://localhost:8080/"
        },
        "id": "WLP2e1qRHZR_",
        "outputId": "153a2efd-7029-4a8b-8698-92a8b88cbfc4"
      },
      "execution_count": null,
      "outputs": [
        {
          "output_type": "stream",
          "name": "stdout",
          "text": [
            "[[1]\n",
            " [1]\n",
            " [0]\n",
            " ...\n",
            " [1]\n",
            " [1]\n",
            " [1]]\n",
            "Accuracy: 0.871875\n",
            "Precision: 0.874401\n",
            "Recall: 0.924949\n",
            "F1 score: 0.898965\n",
            "[[483 131]\n",
            " [ 74 912]]\n"
          ]
        }
      ]
    }
  ]
}